{
 "cells": [
  {
   "cell_type": "markdown",
   "id": "1ce17891",
   "metadata": {},
   "source": [
    "# Import Packages"
   ]
  },
  {
   "cell_type": "code",
   "execution_count": 59,
   "id": "c01134f7",
   "metadata": {},
   "outputs": [],
   "source": [
    "import pandas as pd\n",
    "import numpy as np\n",
    "from sklearn.model_selection import train_test_split\n",
    "import matplotlib.pyplot as plt\n",
    "import seaborn as sns\n",
    "from sklearn.pipeline import make_pipeline\n",
    "from lime.lime_text import LimeTextExplainer\n",
    "from sklearn.linear_model import LogisticRegression\n",
    "from sklearn.feature_extraction.text import TfidfVectorizer\n",
    "from collections import OrderedDict"
   ]
  },
  {
   "cell_type": "markdown",
   "id": "49b50fc3",
   "metadata": {},
   "source": [
    "# Load the Data"
   ]
  },
  {
   "cell_type": "code",
   "execution_count": 60,
   "id": "de2419ea",
   "metadata": {},
   "outputs": [
    {
     "name": "stdout",
     "output_type": "stream",
     "text": [
      "Train shape :  (925142, 3)\n"
     ]
    },
    {
     "data": {
      "text/html": [
       "<div>\n",
       "<style scoped>\n",
       "    .dataframe tbody tr th:only-of-type {\n",
       "        vertical-align: middle;\n",
       "    }\n",
       "\n",
       "    .dataframe tbody tr th {\n",
       "        vertical-align: top;\n",
       "    }\n",
       "\n",
       "    .dataframe thead th {\n",
       "        text-align: right;\n",
       "    }\n",
       "</style>\n",
       "<table border=\"1\" class=\"dataframe\">\n",
       "  <thead>\n",
       "    <tr style=\"text-align: right;\">\n",
       "      <th></th>\n",
       "      <th>qid</th>\n",
       "      <th>question_text</th>\n",
       "      <th>target</th>\n",
       "    </tr>\n",
       "  </thead>\n",
       "  <tbody>\n",
       "    <tr>\n",
       "      <th>0</th>\n",
       "      <td>00002165364db923c7e6</td>\n",
       "      <td>How did Quebec nationalists see their province...</td>\n",
       "      <td>0.0</td>\n",
       "    </tr>\n",
       "    <tr>\n",
       "      <th>1</th>\n",
       "      <td>000032939017120e6e44</td>\n",
       "      <td>Do you have an adopted dog, how would you enco...</td>\n",
       "      <td>0.0</td>\n",
       "    </tr>\n",
       "    <tr>\n",
       "      <th>2</th>\n",
       "      <td>0000412ca6e4628ce2cf</td>\n",
       "      <td>Why does velocity affect time? Does velocity a...</td>\n",
       "      <td>0.0</td>\n",
       "    </tr>\n",
       "    <tr>\n",
       "      <th>3</th>\n",
       "      <td>000042bf85aa498cd78e</td>\n",
       "      <td>How did Otto von Guericke used the Magdeburg h...</td>\n",
       "      <td>0.0</td>\n",
       "    </tr>\n",
       "    <tr>\n",
       "      <th>4</th>\n",
       "      <td>0000455dfa3e01eae3af</td>\n",
       "      <td>Can I convert montra helicon D to a mountain b...</td>\n",
       "      <td>0.0</td>\n",
       "    </tr>\n",
       "  </tbody>\n",
       "</table>\n",
       "</div>"
      ],
      "text/plain": [
       "                    qid                                      question_text  \\\n",
       "0  00002165364db923c7e6  How did Quebec nationalists see their province...   \n",
       "1  000032939017120e6e44  Do you have an adopted dog, how would you enco...   \n",
       "2  0000412ca6e4628ce2cf  Why does velocity affect time? Does velocity a...   \n",
       "3  000042bf85aa498cd78e  How did Otto von Guericke used the Magdeburg h...   \n",
       "4  0000455dfa3e01eae3af  Can I convert montra helicon D to a mountain b...   \n",
       "\n",
       "   target  \n",
       "0     0.0  \n",
       "1     0.0  \n",
       "2     0.0  \n",
       "3     0.0  \n",
       "4     0.0  "
      ]
     },
     "execution_count": 60,
     "metadata": {},
     "output_type": "execute_result"
    }
   ],
   "source": [
    "# Load training data\n",
    "train_df = pd.read_csv(\"./train.csv\")\n",
    "print(\"Train shape : \", train_df.shape)\n",
    "train_df.head()"
   ]
  },
  {
   "cell_type": "markdown",
   "id": "d9be63b8",
   "metadata": {},
   "source": [
    "# Display rows with NaN values"
   ]
  },
  {
   "cell_type": "code",
   "execution_count": 61,
   "id": "f7a1a1b5",
   "metadata": {},
   "outputs": [
    {
     "name": "stdout",
     "output_type": "stream",
     "text": [
      "                         qid                         question_text  target\n",
      "925141  b54e97aa528c52f56aba  What is meant by surface maping of b     NaN\n"
     ]
    }
   ],
   "source": [
    "nan_rows = train_df[train_df.isna().any(axis=1)]\n",
    "print(nan_rows)"
   ]
  },
  {
   "cell_type": "markdown",
   "id": "1544c892",
   "metadata": {},
   "source": [
    "# Remove rows with NaN values"
   ]
  },
  {
   "cell_type": "code",
   "execution_count": 62,
   "id": "e5370c76",
   "metadata": {},
   "outputs": [
    {
     "name": "stdout",
     "output_type": "stream",
     "text": [
      "Train shape :  (925141, 3)\n"
     ]
    },
    {
     "data": {
      "text/html": [
       "<div>\n",
       "<style scoped>\n",
       "    .dataframe tbody tr th:only-of-type {\n",
       "        vertical-align: middle;\n",
       "    }\n",
       "\n",
       "    .dataframe tbody tr th {\n",
       "        vertical-align: top;\n",
       "    }\n",
       "\n",
       "    .dataframe thead th {\n",
       "        text-align: right;\n",
       "    }\n",
       "</style>\n",
       "<table border=\"1\" class=\"dataframe\">\n",
       "  <thead>\n",
       "    <tr style=\"text-align: right;\">\n",
       "      <th></th>\n",
       "      <th>qid</th>\n",
       "      <th>question_text</th>\n",
       "      <th>target</th>\n",
       "    </tr>\n",
       "  </thead>\n",
       "  <tbody>\n",
       "    <tr>\n",
       "      <th>0</th>\n",
       "      <td>00002165364db923c7e6</td>\n",
       "      <td>How did Quebec nationalists see their province...</td>\n",
       "      <td>0.0</td>\n",
       "    </tr>\n",
       "    <tr>\n",
       "      <th>1</th>\n",
       "      <td>000032939017120e6e44</td>\n",
       "      <td>Do you have an adopted dog, how would you enco...</td>\n",
       "      <td>0.0</td>\n",
       "    </tr>\n",
       "    <tr>\n",
       "      <th>2</th>\n",
       "      <td>0000412ca6e4628ce2cf</td>\n",
       "      <td>Why does velocity affect time? Does velocity a...</td>\n",
       "      <td>0.0</td>\n",
       "    </tr>\n",
       "    <tr>\n",
       "      <th>3</th>\n",
       "      <td>000042bf85aa498cd78e</td>\n",
       "      <td>How did Otto von Guericke used the Magdeburg h...</td>\n",
       "      <td>0.0</td>\n",
       "    </tr>\n",
       "    <tr>\n",
       "      <th>4</th>\n",
       "      <td>0000455dfa3e01eae3af</td>\n",
       "      <td>Can I convert montra helicon D to a mountain b...</td>\n",
       "      <td>0.0</td>\n",
       "    </tr>\n",
       "  </tbody>\n",
       "</table>\n",
       "</div>"
      ],
      "text/plain": [
       "                    qid                                      question_text  \\\n",
       "0  00002165364db923c7e6  How did Quebec nationalists see their province...   \n",
       "1  000032939017120e6e44  Do you have an adopted dog, how would you enco...   \n",
       "2  0000412ca6e4628ce2cf  Why does velocity affect time? Does velocity a...   \n",
       "3  000042bf85aa498cd78e  How did Otto von Guericke used the Magdeburg h...   \n",
       "4  0000455dfa3e01eae3af  Can I convert montra helicon D to a mountain b...   \n",
       "\n",
       "   target  \n",
       "0     0.0  \n",
       "1     0.0  \n",
       "2     0.0  \n",
       "3     0.0  \n",
       "4     0.0  "
      ]
     },
     "execution_count": 62,
     "metadata": {},
     "output_type": "execute_result"
    }
   ],
   "source": [
    "train_df = train_df.dropna()\n",
    "print(\"Train shape : \", train_df.shape)\n",
    "train_df.head()"
   ]
  },
  {
   "cell_type": "markdown",
   "id": "e212f81a",
   "metadata": {},
   "source": [
    "# Split the data into training and validation sets"
   ]
  },
  {
   "cell_type": "code",
   "execution_count": 63,
   "id": "0ca96504",
   "metadata": {},
   "outputs": [],
   "source": [
    "train_df, val_df = train_test_split(train_df, test_size=0.1, random_state=2018)"
   ]
  },
  {
   "cell_type": "code",
   "execution_count": 64,
   "id": "7da5a994",
   "metadata": {},
   "outputs": [
    {
     "data": {
      "text/html": [
       "<div>\n",
       "<style scoped>\n",
       "    .dataframe tbody tr th:only-of-type {\n",
       "        vertical-align: middle;\n",
       "    }\n",
       "\n",
       "    .dataframe tbody tr th {\n",
       "        vertical-align: top;\n",
       "    }\n",
       "\n",
       "    .dataframe thead th {\n",
       "        text-align: right;\n",
       "    }\n",
       "</style>\n",
       "<table border=\"1\" class=\"dataframe\">\n",
       "  <thead>\n",
       "    <tr style=\"text-align: right;\">\n",
       "      <th></th>\n",
       "      <th>qid</th>\n",
       "      <th>question_text</th>\n",
       "      <th>target</th>\n",
       "    </tr>\n",
       "  </thead>\n",
       "  <tbody>\n",
       "    <tr>\n",
       "      <th>117160</th>\n",
       "      <td>16ed5db88237badb1353</td>\n",
       "      <td>What courses are better between these two: UCS...</td>\n",
       "      <td>0.0</td>\n",
       "    </tr>\n",
       "    <tr>\n",
       "      <th>557957</th>\n",
       "      <td>6d5300c9b4788379b00b</td>\n",
       "      <td>Is Hunter x Hunter worth my time?</td>\n",
       "      <td>0.0</td>\n",
       "    </tr>\n",
       "    <tr>\n",
       "      <th>17048</th>\n",
       "      <td>0357fdaa4d764e8a40c5</td>\n",
       "      <td>Hi I am 22 yr old girl and I am over weight an...</td>\n",
       "      <td>0.0</td>\n",
       "    </tr>\n",
       "    <tr>\n",
       "      <th>292613</th>\n",
       "      <td>394c857fca720fbc9f77</td>\n",
       "      <td>How did you manage to make notes of current af...</td>\n",
       "      <td>0.0</td>\n",
       "    </tr>\n",
       "    <tr>\n",
       "      <th>2256</th>\n",
       "      <td>0070485231f07f427078</td>\n",
       "      <td>What if an intelligent species resided during ...</td>\n",
       "      <td>0.0</td>\n",
       "    </tr>\n",
       "  </tbody>\n",
       "</table>\n",
       "</div>"
      ],
      "text/plain": [
       "                         qid  \\\n",
       "117160  16ed5db88237badb1353   \n",
       "557957  6d5300c9b4788379b00b   \n",
       "17048   0357fdaa4d764e8a40c5   \n",
       "292613  394c857fca720fbc9f77   \n",
       "2256    0070485231f07f427078   \n",
       "\n",
       "                                            question_text  target  \n",
       "117160  What courses are better between these two: UCS...     0.0  \n",
       "557957                  Is Hunter x Hunter worth my time?     0.0  \n",
       "17048   Hi I am 22 yr old girl and I am over weight an...     0.0  \n",
       "292613  How did you manage to make notes of current af...     0.0  \n",
       "2256    What if an intelligent species resided during ...     0.0  "
      ]
     },
     "execution_count": 64,
     "metadata": {},
     "output_type": "execute_result"
    }
   ],
   "source": [
    "val_df.head()"
   ]
  },
  {
   "cell_type": "markdown",
   "id": "93e803cb",
   "metadata": {},
   "source": [
    "# Select specific rows from validation set based on qid for inspection"
   ]
  },
  {
   "cell_type": "code",
   "execution_count": 65,
   "id": "8c55b298",
   "metadata": {},
   "outputs": [],
   "source": [
    "df_select = pd.concat([val_df[val_df['qid'] == '0e1ef5fd2470e01ece3d'], val_df[val_df['qid'] == '1397322310ad2a880150']], axis=0)"
   ]
  },
  {
   "cell_type": "code",
   "execution_count": 66,
   "id": "e932d1cf",
   "metadata": {},
   "outputs": [
    {
     "data": {
      "text/plain": [
       "72034    How is Japan in your mind?\n",
       "Name: question_text, dtype: object"
      ]
     },
     "execution_count": 66,
     "metadata": {},
     "output_type": "execute_result"
    }
   ],
   "source": [
    "# Display the 'question_text' column of selected rows\n",
    "df_select.question_text"
   ]
  },
  {
   "cell_type": "markdown",
   "id": "e3127784",
   "metadata": {},
   "source": [
    "# Reset index of validation dataframe"
   ]
  },
  {
   "cell_type": "code",
   "execution_count": 67,
   "id": "6108a756",
   "metadata": {},
   "outputs": [
    {
     "data": {
      "text/html": [
       "<div>\n",
       "<style scoped>\n",
       "    .dataframe tbody tr th:only-of-type {\n",
       "        vertical-align: middle;\n",
       "    }\n",
       "\n",
       "    .dataframe tbody tr th {\n",
       "        vertical-align: top;\n",
       "    }\n",
       "\n",
       "    .dataframe thead th {\n",
       "        text-align: right;\n",
       "    }\n",
       "</style>\n",
       "<table border=\"1\" class=\"dataframe\">\n",
       "  <thead>\n",
       "    <tr style=\"text-align: right;\">\n",
       "      <th></th>\n",
       "      <th>qid</th>\n",
       "      <th>question_text</th>\n",
       "      <th>target</th>\n",
       "    </tr>\n",
       "  </thead>\n",
       "  <tbody>\n",
       "    <tr>\n",
       "      <th>0</th>\n",
       "      <td>16ed5db88237badb1353</td>\n",
       "      <td>What courses are better between these two: UCS...</td>\n",
       "      <td>0.0</td>\n",
       "    </tr>\n",
       "    <tr>\n",
       "      <th>1</th>\n",
       "      <td>6d5300c9b4788379b00b</td>\n",
       "      <td>Is Hunter x Hunter worth my time?</td>\n",
       "      <td>0.0</td>\n",
       "    </tr>\n",
       "    <tr>\n",
       "      <th>2</th>\n",
       "      <td>0357fdaa4d764e8a40c5</td>\n",
       "      <td>Hi I am 22 yr old girl and I am over weight an...</td>\n",
       "      <td>0.0</td>\n",
       "    </tr>\n",
       "    <tr>\n",
       "      <th>3</th>\n",
       "      <td>394c857fca720fbc9f77</td>\n",
       "      <td>How did you manage to make notes of current af...</td>\n",
       "      <td>0.0</td>\n",
       "    </tr>\n",
       "    <tr>\n",
       "      <th>4</th>\n",
       "      <td>0070485231f07f427078</td>\n",
       "      <td>What if an intelligent species resided during ...</td>\n",
       "      <td>0.0</td>\n",
       "    </tr>\n",
       "  </tbody>\n",
       "</table>\n",
       "</div>"
      ],
      "text/plain": [
       "                    qid                                      question_text  \\\n",
       "0  16ed5db88237badb1353  What courses are better between these two: UCS...   \n",
       "1  6d5300c9b4788379b00b                  Is Hunter x Hunter worth my time?   \n",
       "2  0357fdaa4d764e8a40c5  Hi I am 22 yr old girl and I am over weight an...   \n",
       "3  394c857fca720fbc9f77  How did you manage to make notes of current af...   \n",
       "4  0070485231f07f427078  What if an intelligent species resided during ...   \n",
       "\n",
       "   target  \n",
       "0     0.0  \n",
       "1     0.0  \n",
       "2     0.0  \n",
       "3     0.0  \n",
       "4     0.0  "
      ]
     },
     "execution_count": 67,
     "metadata": {},
     "output_type": "execute_result"
    }
   ],
   "source": [
    "\n",
    "val_df.reset_index(drop=True, inplace=True)\n",
    "val_df.head()"
   ]
  },
  {
   "cell_type": "markdown",
   "id": "6cdaf079",
   "metadata": {},
   "source": [
    "# Create a TF-IDF vectorizer and transform the training and validation data"
   ]
  },
  {
   "cell_type": "code",
   "execution_count": 68,
   "id": "41ca0caa",
   "metadata": {},
   "outputs": [],
   "source": [
    "tfidf_vc = TfidfVectorizer(min_df = 10, max_features = 100000, analyzer = \"word\", ngram_range = (1, 2), stop_words = 'english', lowercase = True)\n",
    "train_vc = tfidf_vc.fit_transform(train_df[\"question_text\"])\n",
    "val_vc = tfidf_vc.transform(val_df[\"question_text\"])"
   ]
  },
  {
   "cell_type": "markdown",
   "id": "807bf42f",
   "metadata": {},
   "source": [
    "# Train a Logistic Regression model on the training data"
   ]
  },
  {
   "cell_type": "code",
   "execution_count": 69,
   "id": "53f3117f",
   "metadata": {},
   "outputs": [],
   "source": [
    "model = LogisticRegression(C = 0.5, solver = \"sag\")\n",
    "model = model.fit(train_vc, train_df.target)"
   ]
  },
  {
   "cell_type": "markdown",
   "id": "0dbeb90a",
   "metadata": {},
   "source": [
    "\n",
    "# Predict on the validation data"
   ]
  },
  {
   "cell_type": "code",
   "execution_count": 70,
   "id": "1717cb71",
   "metadata": {},
   "outputs": [],
   "source": [
    "val_pred = model.predict(val_vc)"
   ]
  },
  {
   "cell_type": "markdown",
   "id": "40fe3811",
   "metadata": {},
   "source": [
    "# Calculate evaluation metrics"
   ]
  },
  {
   "cell_type": "code",
   "execution_count": 71,
   "id": "4a173c11",
   "metadata": {},
   "outputs": [],
   "source": [
    "from sklearn.metrics import accuracy_score, precision_score, recall_score, f1_score, confusion_matrix, classification_report\n",
    "\n",
    "accuracy = accuracy_score(val_df.target, val_pred)\n",
    "precision = precision_score(val_df.target, val_pred)\n",
    "recall = recall_score(val_df.target, val_pred)\n",
    "f1 = f1_score(val_df.target, val_pred)"
   ]
  },
  {
   "cell_type": "code",
   "execution_count": 72,
   "id": "63ba1383",
   "metadata": {},
   "outputs": [
    {
     "name": "stdout",
     "output_type": "stream",
     "text": [
      "Accuracy: 0.9502567151272766\n",
      "Precision: 0.7007272727272728\n",
      "Recall: 0.3377146862951279\n",
      "F1 Score: 0.45577105014191105\n"
     ]
    }
   ],
   "source": [
    "print(\"Accuracy:\", accuracy)\n",
    "print(\"Precision:\", precision)\n",
    "print(\"Recall:\", recall)\n",
    "print(\"F1 Score:\", f1)"
   ]
  },
  {
   "cell_type": "code",
   "execution_count": 73,
   "id": "e6743b8e",
   "metadata": {},
   "outputs": [
    {
     "data": {
      "image/png": "[encoded data removed]",
      "text/plain": [
       "<Figure size 600x500 with 1 Axes>"
      ]
     },
     "metadata": {},
     "output_type": "display_data"
    }
   ],
   "source": [
    "# Calculate confusion matrix\n",
    "conf_matrix = confusion_matrix(val_df.target, val_pred)\n",
    "\n",
    "# Create a heatmap\n",
    "plt.figure(figsize=(6, 5))\n",
    "sns.heatmap(conf_matrix, \n",
    "            annot=True, \n",
    "            fmt='d', \n",
    "            cmap='Blues',\n",
    "            cbar=False,\n",
    "            xticklabels=['Predicted Negative', 'Predicted Positive'],\n",
    "            yticklabels=['Actual Negative', 'Actual Positive'])\n",
    "\n",
    "plt.xlabel('Predicted Label')\n",
    "plt.ylabel('True Label')\n",
    "plt.title('Confusion Matrix')\n",
    "plt.show()"
   ]
  },
  {
   "cell_type": "markdown",
   "id": "d70f9830",
   "metadata": {},
   "source": [
    "# Display classification report"
   ]
  },
  {
   "cell_type": "code",
   "execution_count": 74,
   "id": "d192c3d9",
   "metadata": {},
   "outputs": [
    {
     "name": "stdout",
     "output_type": "stream",
     "text": [
      "Classification Report:\n",
      "               precision    recall  f1-score   support\n",
      "\n",
      "     sincere       0.96      0.99      0.97     86809\n",
      "   insincere       0.70      0.34      0.46      5706\n",
      "\n",
      "    accuracy                           0.95     92515\n",
      "   macro avg       0.83      0.66      0.71     92515\n",
      "weighted avg       0.94      0.95      0.94     92515\n",
      "\n"
     ]
    }
   ],
   "source": [
    "# Define class names\n",
    "class_names = [\"sincere\", \"insincere\"]\n",
    "class_report = classification_report(val_df.target, val_pred, target_names=class_names)\n",
    "print(\"Classification Report:\\n\", class_report)"
   ]
  },
  {
   "cell_type": "code",
   "execution_count": 75,
   "id": "728a6cd9",
   "metadata": {},
   "outputs": [
    {
     "name": "stdout",
     "output_type": "stream",
     "text": [
      "Rows with target = 1:\n",
      "                        qid  \\\n",
      "6      43d79a9f9298612851f6   \n",
      "21     4fb49f5e2f88ed916eee   \n",
      "24     6b4b32c17b61b1ea494b   \n",
      "68     42b187052f769ec13b49   \n",
      "93     0dcd19fac910b986fd20   \n",
      "...                     ...   \n",
      "92460  409507532ffdc96d3893   \n",
      "92474  1b1f93d0436d7e176317   \n",
      "92493  39ca0cfeeadd6a1c2b27   \n",
      "92500  0c2ec5a13246907c7e33   \n",
      "92507  628e5657fa45fbfc331f   \n",
      "\n",
      "                                           question_text  target  \n",
      "6                  Are Irish people inferior than Brits?     1.0  \n",
      "21     Do people discriminate against the LGBT commun...     1.0  \n",
      "24     How should America punish the uneducated white...     1.0  \n",
      "68     Why do so many Asians, especially in the UK ha...     1.0  \n",
      "93       Why do American Democrats hate America so much?     1.0  \n",
      "...                                                  ...     ...  \n",
      "92460  Considering living beings are bits of hardware...     1.0  \n",
      "92474  Why do leftists proclaim how proud they are of...     1.0  \n",
      "92493  How do Indian women feel about their rapist co...     1.0  \n",
      "92500  Why do leftists Marxist feminist complain of o...     1.0  \n",
      "92507  Why wouldn't Neil Armstrong put his hand on th...     1.0  \n",
      "\n",
      "[5706 rows x 3 columns]\n",
      "\n",
      "Row indices of rows with target = 1:\n",
      "[6, 21, 24, 68, 93, 97, 107, 138, 139, 141, 150, 162, 179, 201, 202, 209, 212, 219, 251, 267, 278, 281, 327, 352, 363, 374, 391, 397, 413, 433, 449, 458, 482, 483, 511, 512, 528, 555, 559, 582, 613, 617, 621, 660, 672, 686, 694, 705, 750, 785, 786, 789, 797, 798, 848, 862, 909, 953, 958, 981, 984, 1038, 1053, 1079, 1110, 1113, 1115, 1124, 1140, 1146, 1159, 1179, 1229, 1236, 1254, 1256, 1271, 1285, 1288, 1308, 1310, 1323, 1341, 1344, 1373, 1377, 1388, 1405, 1408, 1430, 1432, 1445, 1456, 1462, 1464, 1471, 1498, 1505, 1545, 1576, 1578, 1584, 1589, 1611, 1661, 1675, 1677, 1693, 1694, 1702, 1706, 1715, 1723, 1734, 1742, 1743, 1763, 1764, 1819, 1821, 1827, 1840, 1847, 1884, 1903, 1906, 1914, 1925, 1927, 1934, 1940, 1956, 1967, 1970, 1980, 1991, 1993, 2028, 2044, 2081, 2101, 2117, 2155, 2161, 2219, 2222, 2230, 2256, 2267, 2273, 2283, 2317, 2334, 2335, 2373, 2389, 2390, 2400, 2409, 2412, 2419, 2442, 2449, 2469, 2471, 2478, 2506, 2510, 2542, 2544, 2548, 2553, 2574, 2590, 2595, 2602, 2612, 2642, 2660, 2665, 2675, 2700, 2702, 2727, 2730, 2747, 2785, 2792, 2803, 2809, 2810, 2869, 2879, 2897, 2901, 2944, 3036, 3049, 3074, 3103, 3106, 3149, 3153, 3157, 3171, 3172, 3173, 3179, 3209, 3215, 3219, 3243, 3249, 3258, 3303, 3314, 3316, 3319, 3320, 3328, 3334, 3447, 3449, 3467, 3493, 3514, 3519, 3521, 3568, 3571, 3583, 3644, 3655, 3663, 3687, 3697, 3702, 3713, 3718, 3726, 3735, 3761, 3763, 3767, 3779, 3795, 3801, 3816, 3836, 3861, 3893, 3906, 3914, 3915, 3922, 3925, 3929, 3953, 4007, 4030, 4032, 4036, 4076, 4081, 4082, 4105, 4155, 4184, 4191, 4214, 4226, 4253, 4255, 4264, 4290, 4293, 4297, 4299, 4300, 4301, 4350, 4366, 4380, 4401, 4408, 4409, 4441, 4463, 4466, 4475, 4506, 4543, 4546, 4549, 4554, 4580, 4586, 4597, 4616, 4624, 4631, 4632, 4636, 4649, 4678, 4691, 4761, 4765, 4806, 4807, 4825, 4826, 4848, 4927, 4946, 4950, 4972, 5014, 5017, 5043, 5059, 5074, 5091, 5132, 5134, 5200, 5204, 5250, 5278, 5307, 5362, 5405, 5411, 5416, 5504, 5505, 5514, 5521, 5543, 5552, 5558, 5581, 5589, 5621, 5671, 5683, 5689, 5725, 5756, 5763, 5769, 5779, 5780, 5826, 5848, 5926, 5937, 5943, 5958, 5969, 5986, 6011, 6050, 6053, 6069, 6070, 6091, 6095, 6099, 6120, 6126, 6150, 6165, 6172, 6177, 6205, 6232, 6254, 6256, 6314, 6335, 6346, 6366, 6374, 6376, 6381, 6383, 6399, 6411, 6430, 6438, 6442, 6453, 6455, 6460, 6469, 6489, 6495, 6499, 6549, 6553, 6577, 6582, 6585, 6591, 6617, 6639, 6675, 6677, 6699, 6722, 6724, 6726, 6729, 6735, 6743, 6762, 6776, 6795, 6847, 6855, 6881, 6884, 6889, 6898, 6913, 6957, 6964, 6982, 6992, 6995, 7012, 7060, 7090, 7102, 7111, 7117, 7131, 7142, 7167, 7178, 7183, 7218, 7229, 7230, 7282, 7348, 7353, 7355, 7387, 7442, 7476, 7481, 7484, 7502, 7507, 7526, 7533, 7553, 7560, 7577, 7582, 7620, 7645, 7648, 7649, 7654, 7677, 7685, 7712, 7721, 7729, 7731, 7737, 7781, 7786, 7802, 7809, 7815, 7832, 7838, 7920, 8013, 8026, 8031, 8040, 8052, 8054, 8066, 8067, 8073, 8134, 8153, 8175, 8177, 8216, 8222, 8245, 8265, 8270, 8282, 8299, 8336, 8361, 8372, 8379, 8380, 8385, 8425, 8427, 8456, 8460, 8462, 8499, 8511, 8524, 8540, 8549, 8572, 8584, 8591, 8593, 8594, 8646, 8652, 8654, 8677, 8688, 8703, 8728, 8743, 8756, 8763, 8775, 8810, 8811, 8817, 8819, 8845, 8853, 8876, 8885, 8892, 8898, 8913, 8916, 8924, 8946, 8952, 8954, 8955, 8960, 8992, 8997, 9006, 9042, 9045, 9097, 9111, 9133, 9140, 9168, 9171, 9173, 9201, 9206, 9207, 9212, 9250, 9259, 9298, 9313, 9326, 9340, 9343, 9374, 9385, 9396, 9402, 9420, 9433, 9457, 9485, 9501, 9508, 9511, 9538, 9547, 9550, 9566, 9575, 9590, 9603, 9607, 9630, 9631, 9635, 9642, 9646, 9654, 9667, 9681, 9687, 9717, 9724, 9726, 9740, 9742, 9745, 9788, 9814, 9855, 9863, 9907, 9913, 9940, 9942, 9967, 9978, 9980, 9984, 9986, 9997, 10013, 10038, 10043, 10053, 10070, 10078, 10107, 10166, 10209, 10210, 10211, 10222, 10249, 10271, 10317, 10324, 10326, 10360, 10368, 10375, 10396, 10399, 10402, 10413, 10420, 10430, 10437, 10441, 10445, 10448, 10460, 10503, 10508, 10509, 10512, 10524, 10526, 10542, 10545, 10560, 10575, 10584, 10587, 10597, 10604, 10614, 10651, 10694, 10729, 10739, 10746, 10763, 10764, 10765, 10767, 10772, 10785, 10799, 10805, 10815, 10819, 10832, 10849, 10852, 10881, 10899, 10915, 10917, 10921, 10950, 10954, 10957, 10961, 10969, 10972, 11046, 11052, 11054, 11066, 11091, 11098, 11102, 11105, 11124, 11129, 11137, 11150, 11168, 11183, 11202, 11224, 11233, 11249, 11258, 11268, 11269, 11271, 11281, 11291, 11294, 11311, 11314, 11317, 11327, 11342, 11351, 11395, 11398, 11401, 11463, 11465, 11480, 11487, 11497, 11506, 11529, 11534, 11544, 11546, 11628, 11636, 11650, 11659, 11665, 11689, 11691, 11700, 11725, 11788, 11791, 11796, 11798, 11799, 11808, 11821, 11859, 11885, 11899, 11901, 11914, 11950, 11963, 11965, 11982, 11992, 12009, 12033, 12078, 12124, 12133, 12141, 12153, 12154, 12175, 12210, 12244, 12275, 12280, 12294, 12296, 12326, 12333, 12338, 12368, 12372, 12374, 12400, 12407, 12414, 12435, 12438, 12440, 12443, 12446, 12471, 12502, 12511, 12526, 12534, 12548, 12555, 12580, 12601, 12606, 12623, 12648, 12665, 12671, 12678, 12688, 12694, 12711, 12714, 12755, 12761, 12770, 12799, 12806, 12811, 12816, 12881, 12884, 12903, 12908, 12910, 12924, 12926, 12942, 12965, 12971, 12973, 12980, 12985, 12989, 12990, 13001, 13009, 13026, 13032, 13033, 13066, 13091, 13096, 13098, 13111, 13132, 13140, 13186, 13210, 13224, 13240, 13249, 13263, 13281, 13299, 13330, 13347, 13358, 13381, 13387, 13404, 13426, 13429, 13447, 13474, 13478, 13482, 13498, 13509, 13517, 13518, 13567, 13576, 13617, 13623, 13629, 13656, 13679, 13703, 13728, 13745, 13747, 13752, 13778, 13782, 13788, 13791, 13841, 13850, 13858, 13884, 13902, 13987, 14018, 14029, 14037, 14065, 14086, 14096, 14111, 14122, 14150, 14171, 14174, 14196, 14201, 14241, 14270, 14286, 14337, 14356, 14390, 14430, 14431, 14432, 14444, 14470, 14483, 14497, 14524, 14532, 14535, 14578, 14611, 14630, 14636, 14646, 14648, 14650, 14662, 14677, 14684, 14687, 14723, 14729, 14740, 14748, 14750, 14766, 14779, 14799, 14801, 14803, 14804, 14816, 14819, 14820, 14838, 14840, 14842, 14859, 14890, 14906, 14919, 14937, 14946, 14962, 14982, 14998, 15029, 15039, 15042, 15068, 15164, 15168, 15199, 15230, 15231, 15232, 15242, 15247, 15254, 15274, 15288, 15299, 15313, 15370, 15371, 15385, 15403, 15408, 15422, 15429, 15430, 15459, 15478, 15482, 15524, 15534, 15546, 15568, 15577, 15603, 15612, 15631, 15643, 15657, 15663, 15671, 15676, 15714, 15734, 15738, 15749, 15762, 15768, 15820, 15856, 15862, 15881, 15882, 15907, 15912, 15914, 15921, 15930, 15961, 16009, 16053, 16054, 16088, 16119, 16140, 16155, 16161, 16166, 16188, 16214, 16217, 16223, 16226, 16237, 16239, 16241, 16267, 16282, 16289, 16291, 16328, 16330, 16337, 16371, 16375, 16382, 16393, 16394, 16400, 16441, 16447, 16455, 16462, 16484, 16499, 16500, 16501, 16556, 16577, 16587, 16591, 16600, 16607, 16611, 16618, 16619, 16625, 16660, 16741, 16751, 16756, 16815, 16825, 16840, 16852, 16857, 16865, 16880, 16883, 16928, 16951, 16963, 16981, 16983, 16985, 17010, 17014, 17021, 17026, 17027, 17054, 17059, 17074, 17079, 17085, 17117, 17128, 17160, 17183, 17194, 17223, 17225, 17238, 17254, 17271, 17290, 17335, 17338, 17342, 17346, 17357, 17393, 17395, 17410, 17411, 17412, 17443, 17444, 17448, 17478, 17481, 17509, 17521, 17524, 17534, 17578, 17607, 17611, 17644, 17647, 17668, 17700, 17728, 17729, 17734, 17765, 17769, 17785, 17796, 17820, 17828, 17849, 17876, 17886, 17892, 17915, 17917, 17935, 17945, 17956, 17978, 17992, 18000, 18065, 18090, 18108, 18115, 18138, 18146, 18149, 18154, 18202, 18205, 18206, 18223, 18226, 18228, 18261, 18287, 18301, 18324, 18326, 18335, 18382, 18450, 18507, 18553, 18558, 18565, 18576, 18579, 18589, 18595, 18648, 18663, 18673, 18680, 18681, 18690, 18705, 18722, 18724, 18729, 18757, 18774, 18781, 18802, 18808, 18838, 18843, 18904, 18912, 18922, 18948, 18969, 18986, 18992, 19015, 19040, 19046, 19056, 19064, 19065, 19074, 19091, 19110, 19119, 19130, 19131, 19145, 19161, 19178, 19188, 19238, 19262, 19274, 19300, 19301, 19312, 19328, 19331, 19334, 19355, 19365, 19371, 19376, 19389, 19403, 19416, 19417, 19467, 19489, 19497, 19537, 19554, 19597, 19602, 19669, 19680, 19723, 19733, 19741, 19750, 19774, 19791, 19823, 19831, 19854, 19915, 19921, 19985, 19995, 20033, 20066, 20071, 20072, 20088, 20091, 20103, 20106, 20123, 20126, 20132, 20146, 20196, 20225, 20235, 20241, 20248, 20249, 20257, 20280, 20296, 20367, 20439, 20468, 20471, 20492, 20506, 20507, 20512, 20531, 20534, 20548, 20570, 20577, 20587, 20601, 20608, 20621, 20632, 20648, 20659, 20672, 20693, 20724, 20733, 20743, 20785, 20788, 20796, 20797, 20800, 20820, 20822, 20838, 20850, 20855, 20872, 20953, 20982, 20984, 21002, 21003, 21010, 21061, 21097, 21104, 21132, 21169, 21183, 21235, 21254, 21267, 21285, 21297, 21321, 21365, 21393, 21413, 21419, 21432, 21441, 21442, 21456, 21468, 21485, 21491, 21494, 21531, 21556, 21583, 21624, 21650, 21658, 21659, 21660, 21663, 21675, 21694, 21696, 21712, 21745, 21747, 21785, 21799, 21802, 21808, 21817, 21860, 21885, 21893, 21909, 21912, 21917, 21946, 21958, 21967, 21989, 22002, 22005, 22032, 22035, 22041, 22055, 22077, 22085, 22094, 22108, 22138, 22166, 22189, 22200, 22217, 22243, 22272, 22282, 22284, 22285, 22324, 22328, 22334, 22338, 22340, 22369, 22378, 22385, 22400, 22402, 22422, 22426, 22436, 22449, 22453, 22466, 22512, 22513, 22525, 22532, 22555, 22568, 22589, 22601, 22604, 22645, 22647, 22648, 22654, 22660, 22670, 22706, 22726, 22734, 22746, 22810, 22826, 22843, 22846, 22851, 22889, 22892, 22912, 22923, 22939, 22952, 22959, 22969, 23001, 23004, 23015, 23030, 23034, 23037, 23055, 23066, 23073, 23074, 23094, 23101, 23136, 23141, 23154, 23162, 23172, 23191, 23195, 23211, 23225, 23241, 23261, 23299, 23317, 23322, 23356, 23371, 23373, 23420, 23424, 23444, 23480, 23481, 23516, 23568, 23579, 23589, 23619, 23631, 23632, 23690, 23705, 23710, 23716, 23762, 23784, 23811, 23836, 23844, 23919, 23922, 23926, 23941, 23954, 23964, 23969, 23973, 23980, 23982, 24019, 24020, 24030, 24037, 24044, 24060, 24075, 24077, 24081, 24082, 24090, 24105, 24106, 24118, 24145, 24154, 24176, 24179, 24186, 24193, 24199, 24226, 24230, 24262, 24305, 24313, 24327, 24350, 24353, 24355, 24395, 24421, 24422, 24455, 24518, 24520, 24554, 24557, 24576, 24578, 24601, 24614, 24626, 24643, 24681, 24683, 24698, 24700, 24711, 24725, 24729, 24733, 24741, 24742, 24767, 24769, 24776, 24843, 24848, 24887, 24888, 24926, 24937, 24939, 24960, 24968, 24975, 25000, 25001, 25019, 25031, 25053, 25054, 25066, 25103, 25135, 25144, 25147, 25159, 25191, 25205, 25235, 25239, 25270, 25277, 25289, 25295, 25308, 25350, 25361, 25362, 25363, 25394, 25406, 25407, 25432, 25453, 25465, 25492, 25508, 25509, 25532, 25594, 25626, 25627, 25629, 25634, 25659, 25663, 25680, 25753, 25757, 25759, 25785, 25788, 25802, 25804, 25824, 25873, 25875, 25884, 25893, 25897, 25913, 25930, 25944, 25961, 25966, 25968, 25986, 25988, 25995, 26006, 26018, 26019, 26038, 26040, 26053, 26057, 26078, 26103, 26123, 26148, 26152, 26167, 26174, 26193, 26199, 26205, 26227, 26232, 26255, 26264, 26271, 26277, 26291, 26294, 26313, 26361, 26383, 26386, 26421, 26442, 26466, 26476, 26504, 26526, 26545, 26548, 26575, 26577, 26582, 26583, 26606, 26615, 26624, 26650, 26665, 26667, 26698, 26710, 26722, 26732, 26740, 26744, 26747, 26835, 26883, 26886, 26900, 26904, 27011, 27046, 27055, 27062, 27097, 27105, 27118, 27129, 27147, 27150, 27168, 27181, 27200, 27208, 27211, 27237, 27241, 27245, 27248, 27259, 27263, 27282, 27311, 27323, 27368, 27372, 27405, 27406, 27410, 27428, 27440, 27451, 27481, 27502, 27507, 27516, 27533, 27569, 27604, 27621, 27626, 27637, 27643, 27666, 27671, 27714, 27748, 27793, 27802, 27807, 27831, 27837, 27850, 27908, 27939, 27973, 27981, 27983, 27997, 28014, 28051, 28089, 28113, 28117, 28118, 28146, 28148, 28165, 28167, 28178, 28192, 28194, 28200, 28205, 28230, 28234, 28237, 28245, 28248, 28268, 28280, 28340, 28348, 28353, 28371, 28373, 28398, 28437, 28445, 28459, 28461, 28500, 28505, 28518, 28526, 28529, 28545, 28573, 28581, 28597, 28610, 28641, 28670, 28676, 28690, 28692, 28703, 28712, 28718, 28754, 28765, 28786, 28820, 28823, 28827, 28842, 28858, 28880, 28940, 28959, 28968, 28997, 29005, 29012, 29031, 29079, 29084, 29105, 29122, 29195, 29197, 29207, 29220, 29255, 29292, 29306, 29335, 29368, 29369, 29371, 29376, 29389, 29402, 29404, 29435, 29437, 29450, 29468, 29469, 29508, 29532, 29583, 29606, 29636, 29660, 29664, 29677, 29689, 29727, 29734, 29749, 29750, 29763, 29766, 29794, 29805, 29825, 29827, 29851, 29853, 29902, 29923, 29953, 29964, 29982, 30024, 30029, 30031, 30048, 30064, 30076, 30105, 30109, 30116, 30153, 30159, 30161, 30172, 30178, 30212, 30226, 30229, 30233, 30246, 30262, 30304, 30327, 30341, 30350, 30359, 30371, 30378, 30388, 30400, 30408, 30417, 30433, 30438, 30471, 30492, 30502, 30512, 30514, 30520, 30546, 30550, 30556, 30568, 30569, 30615, 30670, 30688, 30698, 30700, 30703, 30706, 30737, 30741, 30746, 30776, 30778, 30825, 30837, 30842, 30885, 30928, 30950, 30954, 30992, 30998, 31001, 31015, 31021, 31032, 31035, 31044, 31055, 31071, 31115, 31127, 31141, 31157, 31162, 31164, 31165, 31176, 31190, 31202, 31260, 31336, 31370, 31373, 31391, 31402, 31409, 31414, 31416, 31422, 31427, 31433, 31475, 31485, 31506, 31532, 31559, 31596, 31601, 31611, 31645, 31646, 31679, 31691, 31722, 31746, 31768, 31771, 31789, 31804, 31806, 31810, 31828, 31829, 31842, 31845, 31856, 31867, 31883, 31893, 31905, 31921, 31929, 31933, 31965, 31970, 32004, 32040, 32046, 32049, 32053, 32070, 32074, 32075, 32076, 32081, 32111, 32120, 32128, 32131, 32135, 32141, 32173, 32174, 32229, 32237, 32238, 32242, 32306, 32325, 32330, 32335, 32337, 32347, 32361, 32376, 32397, 32400, 32419, 32462, 32498, 32506, 32524, 32538, 32542, 32570, 32583, 32600, 32610, 32613, 32628, 32651, 32659, 32664, 32669, 32698, 32703, 32714, 32723, 32730, 32742, 32765, 32768, 32773, 32780, 32784, 32792, 32814, 32855, 32858, 32871, 32874, 32877, 32884, 32906, 32922, 32962, 32976, 32977, 33014, 33040, 33052, 33053, 33088, 33119, 33130, 33138, 33143, 33147, 33150, 33159, 33160, 33166, 33180, 33182, 33211, 33223, 33229, 33244, 33261, 33367, 33395, 33403, 33404, 33408, 33436, 33461, 33472, 33483, 33499, 33522, 33533, 33538, 33556, 33575, 33584, 33593, 33613, 33669, 33673, 33682, 33707, 33721, 33750, 33764, 33782, 33801, 33813, 33815, 33816, 33822, 33849, 33852, 33861, 33880, 33897, 33898, 33905, 33906, 33933, 33946, 33951, 33964, 33973, 33987, 34019, 34029, 34044, 34048, 34051, 34067, 34070, 34091, 34108, 34137, 34145, 34164, 34167, 34171, 34178, 34181, 34216, 34227, 34250, 34261, 34267, 34305, 34328, 34331, 34371, 34387, 34397, 34422, 34433, 34436, 34442, 34451, 34468, 34496, 34509, 34510, 34524, 34531, 34535, 34537, 34544, 34573, 34575, 34596, 34600, 34616, 34651, 34725, 34749, 34805, 34812, 34856, 34912, 34936, 34943, 34965, 34971, 34996, 35012, 35027, 35045, 35087, 35099, 35131, 35151, 35181, 35194, 35205, 35210, 35261, 35302, 35307, 35317, 35324, 35344, 35347, 35354, 35356, 35387, 35388, 35417, 35464, 35465, 35476, 35479, 35484, 35486, 35513, 35519, 35547, 35560, 35580, 35629, 35634, 35636, 35648, 35663, 35666, 35678, 35704, 35721, 35742, 35778, 35804, 35820, 35833, 35853, 35873, 35879, 35903, 35907, 35944, 35948, 35950, 35963, 35988, 35994, 36032, 36033, 36062, 36113, 36166, 36170, 36193, 36197, 36198, 36204, 36210, 36212, 36218, 36222, 36250, 36259, 36288, 36296, 36357, 36364, 36369, 36370, 36371, 36373, 36430, 36431, 36465, 36475, 36494, 36512, 36519, 36536, 36537, 36540, 36556, 36561, 36565, 36566, 36583, 36589, 36591, 36598, 36604, 36608, 36613, 36630, 36647, 36669, 36694, 36729, 36743, 36750, 36766, 36783, 36827, 36833, 36855, 36856, 36882, 36890, 36899, 36908, 36921, 36928, 36936, 36959, 37020, 37027, 37047, 37055, 37072, 37074, 37075, 37089, 37101, 37118, 37148, 37167, 37170, 37202, 37212, 37231, 37292, 37322, 37333, 37337, 37341, 37384, 37434, 37439, 37469, 37470, 37486, 37487, 37498, 37555, 37572, 37580, 37581, 37596, 37606, 37625, 37626, 37646, 37649, 37661, 37664, 37682, 37683, 37691, 37693, 37696, 37699, 37717, 37727, 37742, 37764, 37768, 37773, 37789, 37795, 37816, 37842, 37861, 37873, 37881, 37887, 37891, 37972, 37974, 37978, 38000, 38026, 38059, 38061, 38067, 38094, 38107, 38111, 38112, 38119, 38138, 38147, 38160, 38161, 38192, 38222, 38223, 38254, 38260, 38265, 38281, 38330, 38348, 38367, 38372, 38381, 38402, 38423, 38435, 38488, 38500, 38503, 38511, 38530, 38550, 38580, 38589, 38595, 38596, 38638, 38663, 38735, 38743, 38749, 38806, 38809, 38817, 38833, 38872, 38876, 38931, 38961, 38967, 39016, 39032, 39046, 39065, 39072, 39129, 39131, 39132, 39137, 39144, 39158, 39172, 39187, 39209, 39216, 39217, 39236, 39240, 39251, 39288, 39290, 39293, 39295, 39326, 39329, 39352, 39361, 39395, 39433, 39444, 39467, 39469, 39470, 39472, 39473, 39525, 39529, 39538, 39542, 39559, 39578, 39590, 39591, 39642, 39674, 39686, 39706, 39740, 39776, 39779, 39788, 39816, 39828, 39834, 39840, 39862, 39918, 39923, 39933, 39934, 39959, 39975, 39994, 39995, 40016, 40029, 40031, 40033, 40045, 40057, 40083, 40087, 40090, 40096, 40101, 40150, 40186, 40187, 40203, 40205, 40220, 40237, 40244, 40245, 40251, 40264, 40268, 40270, 40271, 40278, 40298, 40307, 40351, 40405, 40418, 40419, 40438, 40454, 40461, 40473, 40481, 40509, 40512, 40525, 40579, 40621, 40629, 40682, 40694, 40710, 40713, 40717, 40737, 40747, 40750, 40783, 40787, 40795, 40816, 40862, 40872, 40884, 40887, 40888, 40918, 40942, 40943, 40951, 40956, 40960, 40969, 40987, 40996, 41009, 41021, 41047, 41055, 41098, 41129, 41156, 41157, 41178, 41196, 41203, 41213, 41225, 41226, 41228, 41243, 41274, 41281, 41317, 41336, 41337, 41341, 41352, 41369, 41410, 41411, 41417, 41450, 41482, 41495, 41507, 41520, 41521, 41533, 41570, 41584, 41587, 41668, 41670, 41685, 41698, 41732, 41750, 41767, 41773, 41778, 41784, 41807, 41834, 41844, 41914, 41943, 41945, 41961, 42029, 42050, 42101, 42111, 42129, 42141, 42175, 42179, 42188, 42189, 42199, 42215, 42241, 42285, 42286, 42287, 42288, 42291, 42313, 42340, 42376, 42414, 42420, 42454, 42483, 42507, 42516, 42548, 42579, 42589, 42591, 42597, 42625, 42675, 42682, 42690, 42722, 42723, 42732, 42741, 42764, 42765, 42767, 42775, 42796, 42819, 42850, 42854, 42884, 42943, 42950, 42956, 42985, 43001, 43043, 43064, 43079, 43086, 43089, 43092, 43096, 43127, 43128, 43170, 43176, 43187, 43189, 43201, 43206, 43231, 43281, 43300, 43311, 43340, 43352, 43391, 43392, 43409, 43426, 43435, 43460, 43472, 43476, 43498, 43509, 43555, 43576, 43616, 43617, 43628, 43664, 43681, 43730, 43736, 43755, 43763, 43764, 43767, 43783, 43827, 43829, 43856, 43904, 43925, 43946, 44023, 44026, 44040, 44077, 44079, 44113, 44127, 44129, 44157, 44180, 44226, 44235, 44241, 44254, 44267, 44278, 44295, 44303, 44328, 44334, 44378, 44387, 44400, 44407, 44428, 44432, 44439, 44479, 44523, 44534, 44541, 44552, 44563, 44572, 44621, 44634, 44667, 44671, 44707, 44720, 44747, 44772, 44799, 44805, 44808, 44819, 44839, 44847, 44877, 44879, 44886, 44894, 44911, 44925, 44927, 44943, 44951, 44960, 44996, 45014, 45015, 45028, 45035, 45087, 45092, 45105, 45130, 45138, 45152, 45166, 45180, 45203, 45232, 45308, 45316, 45382, 45402, 45433, 45452, 45462, 45464, 45466, 45509, 45510, 45523, 45527, 45536, 45537, 45542, 45548, 45594, 45616, 45642, 45644, 45704, 45743, 45796, 45807, 45841, 45844, 45874, 45904, 45905, 45911, 45912, 45920, 45949, 45962, 45988, 46001, 46005, 46017, 46019, 46020, 46027, 46045, 46056, 46058, 46098, 46122, 46133, 46164, 46176, 46184, 46189, 46207, 46233, 46266, 46269, 46276, 46280, 46305, 46314, 46335, 46338, 46348, 46351, 46356, 46386, 46432, 46442, 46443, 46546, 46562, 46570, 46572, 46576, 46631, 46634, 46638, 46654, 46666, 46694, 46698, 46719, 46723, 46724, 46726, 46732, 46738, 46756, 46776, 46784, 46787, 46792, 46810, 46811, 46822, 46824, 46878, 46886, 46905, 46913, 46926, 46928, 46938, 46946, 46948, 46968, 47010, 47021, 47024, 47028, 47029, 47035, 47037, 47049, 47065, 47083, 47084, 47093, 47150, 47172, 47175, 47186, 47195, 47207, 47221, 47248, 47260, 47366, 47371, 47410, 47412, 47429, 47450, 47461, 47462, 47473, 47504, 47507, 47520, 47532, 47554, 47555, 47631, 47677, 47687, 47790, 47824, 47833, 47848, 47891, 47892, 47897, 47902, 47919, 47936, 47964, 47971, 48021, 48023, 48032, 48037, 48054, 48087, 48101, 48108, 48109, 48121, 48148, 48153, 48163, 48191, 48197, 48202, 48213, 48218, 48274, 48280, 48298, 48318, 48322, 48343, 48347, 48382, 48384, 48388, 48395, 48402, 48438, 48465, 48468, 48482, 48486, 48515, 48532, 48549, 48567, 48575, 48576, 48591, 48597, 48601, 48612, 48622, 48624, 48625, 48627, 48691, 48703, 48773, 48774, 48777, 48784, 48788, 48806, 48823, 48854, 48859, 48861, 48896, 48900, 48928, 48931, 48963, 48970, 48995, 49016, 49030, 49051, 49052, 49054, 49088, 49092, 49118, 49120, 49125, 49128, 49193, 49197, 49202, 49205, 49222, 49249, 49282, 49304, 49327, 49355, 49393, 49441, 49499, 49520, 49542, 49567, 49569, 49571, 49627, 49644, 49652, 49666, 49691, 49693, 49707, 49710, 49786, 49801, 49808, 49828, 49836, 49849, 49862, 49874, 49881, 49891, 49907, 49912, 49916, 49936, 49960, 50002, 50011, 50013, 50091, 50119, 50125, 50142, 50143, 50174, 50181, 50182, 50206, 50234, 50240, 50243, 50261, 50270, 50333, 50335, 50337, 50350, 50374, 50401, 50411, 50412, 50420, 50439, 50463, 50479, 50496, 50499, 50514, 50519, 50523, 50536, 50553, 50598, 50620, 50621, 50644, 50649, 50661, 50691, 50703, 50713, 50735, 50842, 50864, 50875, 50876, 50877, 50907, 50929, 50976, 51054, 51072, 51106, 51132, 51148, 51161, 51170, 51184, 51191, 51208, 51216, 51232, 51264, 51265, 51270, 51276, 51277, 51316, 51343, 51345, 51355, 51376, 51433, 51457, 51467, 51471, 51472, 51486, 51585, 51644, 51658, 51695, 51703, 51713, 51755, 51773, 51774, 51859, 51864, 51879, 51888, 51898, 51910, 51921, 51939, 51954, 51968, 51975, 52011, 52071, 52087, 52131, 52182, 52187, 52201, 52230, 52235, 52238, 52265, 52274, 52292, 52307, 52309, 52326, 52329, 52339, 52340, 52358, 52387, 52389, 52409, 52444, 52466, 52504, 52562, 52568, 52580, 52595, 52652, 52654, 52661, 52688, 52694, 52710, 52747, 52753, 52757, 52772, 52776, 52796, 52799, 52800, 52813, 52819, 52862, 52867, 52907, 52923, 52959, 52963, 52988, 53009, 53014, 53070, 53109, 53123, 53135, 53137, 53147, 53188, 53198, 53212, 53224, 53229, 53235, 53237, 53257, 53289, 53336, 53350, 53360, 53363, 53370, 53378, 53394, 53403, 53413, 53423, 53434, 53447, 53460, 53466, 53492, 53506, 53516, 53529, 53556, 53566, 53567, 53583, 53601, 53604, 53639, 53681, 53687, 53730, 53789, 53797, 53803, 53813, 53817, 53834, 53835, 53838, 53860, 53917, 53953, 53957, 53962, 53963, 53972, 54015, 54020, 54031, 54033, 54045, 54047, 54085, 54086, 54122, 54134, 54163, 54166, 54189, 54209, 54217, 54225, 54236, 54244, 54287, 54291, 54305, 54350, 54377, 54389, 54398, 54404, 54420, 54421, 54444, 54451, 54453, 54487, 54500, 54508, 54520, 54523, 54526, 54538, 54544, 54551, 54558, 54576, 54581, 54607, 54613, 54645, 54666, 54669, 54696, 54748, 54755, 54758, 54767, 54784, 54805, 54809, 54821, 54844, 54876, 54878, 54898, 54932, 54941, 54977, 54979, 55008, 55010, 55075, 55077, 55082, 55083, 55084, 55086, 55119, 55131, 55143, 55197, 55220, 55235, 55275, 55293, 55324, 55346, 55352, 55360, 55382, 55394, 55395, 55408, 55415, 55417, 55440, 55446, 55455, 55457, 55497, 55536, 55558, 55565, 55567, 55605, 55627, 55629, 55655, 55699, 55701, 55703, 55724, 55726, 55739, 55743, 55754, 55763, 55766, 55781, 55799, 55837, 55855, 55858, 55868, 55870, 55875, 55891, 55897, 55903, 55911, 55915, 55917, 55920, 55942, 55955, 55957, 55965, 55984, 56033, 56051, 56069, 56127, 56130, 56131, 56146, 56161, 56169, 56194, 56200, 56211, 56223, 56229, 56250, 56265, 56280, 56307, 56312, 56325, 56331, 56334, 56351, 56365, 56375, 56421, 56454, 56472, 56505, 56515, 56518, 56527, 56528, 56530, 56540, 56567, 56591, 56597, 56607, 56636, 56639, 56646, 56655, 56675, 56679, 56701, 56709, 56729, 56736, 56738, 56752, 56764, 56766, 56779, 56825, 56851, 56892, 56897, 56900, 56915, 56949, 56961, 56975, 57011, 57013, 57023, 57075, 57090, 57103, 57123, 57145, 57157, 57220, 57224, 57289, 57302, 57320, 57353, 57358, 57360, 57361, 57364, 57368, 57392, 57394, 57395, 57400, 57426, 57429, 57435, 57451, 57464, 57508, 57519, 57530, 57543, 57578, 57582, 57617, 57642, 57644, 57648, 57660, 57662, 57693, 57702, 57704, 57712, 57721, 57737, 57766, 57807, 57815, 57819, 57828, 57837, 57838, 57841, 57852, 57855, 57858, 57861, 57906, 57907, 57909, 57952, 57997, 58004, 58005, 58035, 58065, 58072, 58087, 58140, 58146, 58164, 58165, 58211, 58253, 58254, 58256, 58273, 58322, 58334, 58363, 58367, 58372, 58393, 58397, 58407, 58434, 58437, 58438, 58450, 58455, 58467, 58468, 58469, 58506, 58514, 58525, 58528, 58532, 58544, 58568, 58585, 58593, 58598, 58599, 58600, 58632, 58658, 58679, 58692, 58710, 58749, 58781, 58783, 58790, 58793, 58796, 58802, 58817, 58846, 58868, 58873, 58893, 58932, 58962, 58969, 58998, 59020, 59037, 59046, 59047, 59061, 59064, 59077, 59085, 59091, 59106, 59107, 59122, 59133, 59141, 59142, 59207, 59208, 59216, 59230, 59246, 59265, 59277, 59359, 59408, 59424, 59463, 59490, 59492, 59506, 59507, 59509, 59518, 59519, 59524, 59535, 59552, 59566, 59574, 59629, 59643, 59649, 59666, 59695, 59717, 59757, 59772, 59813, 59850, 59854, 59864, 59872, 59889, 59898, 59938, 59941, 59969, 59982, 59989, 60033, 60059, 60070, 60075, 60094, 60097, 60115, 60120, 60125, 60135, 60161, 60163, 60170, 60184, 60190, 60201, 60247, 60252, 60255, 60260, 60281, 60285, 60288, 60292, 60323, 60337, 60363, 60402, 60406, 60410, 60413, 60445, 60455, 60464, 60491, 60504, 60515, 60518, 60535, 60536, 60539, 60573, 60583, 60631, 60650, 60666, 60670, 60686, 60696, 60703, 60711, 60720, 60725, 60742, 60773, 60786, 60803, 60820, 60838, 60858, 60871, 60880, 60881, 60894, 60911, 60943, 60951, 60958, 60961, 61018, 61030, 61031, 61034, 61046, 61068, 61075, 61095, 61134, 61140, 61166, 61169, 61175, 61179, 61204, 61205, 61212, 61247, 61275, 61285, 61287, 61320, 61329, 61344, 61358, 61401, 61413, 61415, 61417, 61427, 61438, 61465, 61467, 61508, 61514, 61524, 61537, 61544, 61583, 61585, 61586, 61600, 61611, 61623, 61658, 61665, 61681, 61685, 61686, 61690, 61698, 61717, 61730, 61742, 61757, 61775, 61777, 61785, 61787, 61790, 61795, 61819, 61861, 61884, 61885, 61916, 61919, 61937, 61973, 61988, 62009, 62060, 62065, 62091, 62112, 62125, 62188, 62204, 62211, 62220, 62231, 62258, 62263, 62294, 62301, 62307, 62323, 62345, 62354, 62371, 62382, 62390, 62413, 62414, 62420, 62421, 62432, 62433, 62452, 62481, 62492, 62501, 62505, 62530, 62552, 62568, 62572, 62590, 62610, 62620, 62640, 62650, 62674, 62684, 62722, 62732, 62738, 62759, 62763, 62778, 62798, 62818, 62879, 62888, 62889, 62898, 62905, 62916, 62920, 62949, 62950, 62951, 62969, 62984, 63055, 63060, 63063, 63075, 63076, 63117, 63119, 63151, 63174, 63175, 63211, 63221, 63252, 63324, 63336, 63346, 63367, 63372, 63407, 63435, 63448, 63450, 63455, 63460, 63509, 63536, 63549, 63566, 63589, 63618, 63658, 63662, 63678, 63679, 63685, 63691, 63693, 63703, 63730, 63749, 63753, 63767, 63768, 63794, 63803, 63810, 63830, 63851, 63858, 63861, 63879, 63889, 63919, 63922, 63943, 63947, 63958, 63961, 63983, 64013, 64029, 64034, 64069, 64072, 64083, 64096, 64127, 64141, 64149, 64159, 64172, 64188, 64200, 64204, 64209, 64213, 64235, 64238, 64260, 64266, 64274, 64306, 64312, 64316, 64341, 64352, 64425, 64430, 64453, 64463, 64475, 64486, 64501, 64525, 64530, 64541, 64547, 64573, 64589, 64598, 64634, 64683, 64713, 64721, 64727, 64768, 64778, 64785, 64788, 64791, 64798, 64804, 64805, 64872, 64873, 64883, 64918, 64926, 64960, 64998, 65015, 65016, 65023, 65032, 65042, 65051, 65069, 65071, 65084, 65097, 65102, 65113, 65118, 65146, 65167, 65179, 65182, 65217, 65225, 65226, 65243, 65246, 65255, 65260, 65264, 65267, 65283, 65348, 65355, 65359, 65366, 65368, 65372, 65382, 65401, 65402, 65406, 65421, 65423, 65428, 65432, 65435, 65446, 65455, 65473, 65481, 65484, 65500, 65505, 65514, 65537, 65546, 65567, 65578, 65616, 65626, 65627, 65632, 65659, 65667, 65697, 65700, 65707, 65752, 65797, 65819, 65864, 65865, 65875, 65883, 65887, 65888, 65909, 65923, 65931, 65992, 66009, 66010, 66012, 66021, 66024, 66068, 66092, 66105, 66155, 66233, 66236, 66242, 66254, 66278, 66284, 66297, 66299, 66318, 66338, 66341, 66358, 66369, 66386, 66407, 66408, 66427, 66433, 66442, 66453, 66456, 66470, 66495, 66525, 66572, 66620, 66629, 66630, 66634, 66650, 66656, 66674, 66690, 66719, 66746, 66753, 66770, 66794, 66802, 66810, 66813, 66851, 66860, 66880, 66911, 66924, 66931, 66932, 66945, 66988, 67008, 67014, 67017, 67021, 67037, 67069, 67074, 67090, 67099, 67100, 67147, 67171, 67181, 67187, 67225, 67260, 67360, 67362, 67363, 67380, 67386, 67402, 67414, 67452, 67464, 67471, 67486, 67505, 67521, 67530, 67539, 67551, 67552, 67564, 67605, 67615, 67623, 67624, 67635, 67641, 67650, 67673, 67681, 67706, 67732, 67761, 67784, 67792, 67816, 67839, 67843, 67865, 67870, 67883, 67905, 67910, 67949, 67958, 67968, 67972, 67988, 68000, 68015, 68018, 68026, 68041, 68074, 68084, 68092, 68095, 68103, 68110, 68111, 68113, 68144, 68148, 68162, 68167, 68191, 68259, 68262, 68263, 68285, 68299, 68317, 68320, 68322, 68335, 68361, 68386, 68391, 68421, 68428, 68457, 68483, 68485, 68489, 68506, 68522, 68524, 68525, 68544, 68569, 68592, 68610, 68623, 68628, 68646, 68719, 68730, 68789, 68793, 68797, 68799, 68801, 68805, 68810, 68825, 68865, 68901, 68907, 68911, 68926, 68974, 68979, 68996, 69009, 69010, 69076, 69085, 69116, 69148, 69168, 69176, 69204, 69207, 69211, 69218, 69223, 69232, 69240, 69248, 69251, 69260, 69271, 69275, 69278, 69300, 69304, 69336, 69341, 69346, 69348, 69363, 69437, 69444, 69446, 69453, 69465, 69468, 69471, 69483, 69500, 69522, 69536, 69541, 69559, 69616, 69634, 69657, 69660, 69678, 69733, 69744, 69747, 69782, 69788, 69798, 69848, 69849, 69905, 69934, 69973, 69990, 69998, 70026, 70046, 70051, 70055, 70075, 70088, 70105, 70107, 70128, 70133, 70136, 70190, 70192, 70201, 70227, 70235, 70239, 70260, 70270, 70279, 70284, 70291, 70304, 70306, 70308, 70338, 70350, 70362, 70370, 70387, 70415, 70436, 70439, 70454, 70455, 70460, 70470, 70473, 70490, 70507, 70511, 70546, 70548, 70569, 70573, 70590, 70598, 70605, 70614, 70626, 70631, 70640, 70665, 70666, 70669, 70673, 70714, 70721, 70727, 70728, 70740, 70778, 70801, 70816, 70826, 70863, 70880, 70881, 70887, 70925, 70929, 70965, 70979, 70987, 71034, 71046, 71057, 71059, 71063, 71068, 71080, 71085, 71144, 71165, 71233, 71252, 71285, 71313, 71317, 71324, 71328, 71330, 71342, 71364, 71372, 71373, 71375, 71391, 71444, 71446, 71452, 71471, 71472, 71502, 71571, 71583, 71614, 71643, 71655, 71659, 71680, 71726, 71735, 71736, 71764, 71796, 71830, 71832, 71835, 71866, 71877, 71878, 71882, 71893, 71897, 71898, 71903, 71922, 71936, 71940, 71984, 71989, 71999, 72004, 72011, 72012, 72055, 72059, 72076, 72113, 72128, 72130, 72131, 72133, 72166, 72182, 72189, 72225, 72248, 72253, 72267, 72268, 72284, 72304, 72309, 72321, 72340, 72342, 72350, 72365, 72381, 72391, 72402, 72415, 72421, 72424, 72437, 72446, 72449, 72455, 72464, 72513, 72530, 72533, 72543, 72579, 72582, 72587, 72613, 72627, 72634, 72665, 72697, 72702, 72729, 72736, 72737, 72739, 72752, 72762, 72771, 72782, 72815, 72857, 72859, 72907, 72912, 72918, 72964, 72999, 73000, 73035, 73037, 73061, 73066, 73069, 73071, 73075, 73121, 73131, 73154, 73164, 73199, 73231, 73239, 73262, 73266, 73308, 73321, 73328, 73353, 73354, 73367, 73383, 73426, 73463, 73467, 73469, 73473, 73498, 73520, 73524, 73530, 73544, 73558, 73583, 73587, 73596, 73597, 73619, 73626, 73671, 73729, 73747, 73749, 73758, 73780, 73800, 73815, 73824, 73829, 73839, 73846, 73853, 73889, 73898, 73912, 73930, 73938, 73972, 73999, 74009, 74024, 74050, 74060, 74069, 74073, 74096, 74155, 74159, 74180, 74181, 74194, 74214, 74215, 74243, 74248, 74254, 74271, 74273, 74281, 74288, 74320, 74347, 74385, 74391, 74413, 74417, 74432, 74437, 74439, 74452, 74468, 74469, 74486, 74522, 74525, 74550, 74566, 74574, 74581, 74584, 74595, 74613, 74620, 74638, 74668, 74672, 74673, 74731, 74745, 74746, 74754, 74767, 74789, 74804, 74830, 74859, 74870, 74903, 74930, 74935, 74942, 74971, 74991, 75004, 75033, 75071, 75078, 75079, 75080, 75093, 75126, 75141, 75156, 75165, 75176, 75186, 75222, 75226, 75238, 75249, 75269, 75280, 75312, 75361, 75371, 75392, 75459, 75486, 75497, 75505, 75510, 75520, 75551, 75587, 75595, 75602, 75643, 75650, 75655, 75686, 75695, 75720, 75727, 75729, 75748, 75759, 75769, 75805, 75807, 75819, 75851, 75901, 75925, 75938, 75943, 75963, 75998, 76002, 76026, 76042, 76048, 76049, 76059, 76088, 76101, 76146, 76149, 76169, 76173, 76177, 76188, 76215, 76229, 76243, 76255, 76259, 76283, 76290, 76312, 76323, 76343, 76348, 76370, 76374, 76379, 76400, 76408, 76456, 76460, 76463, 76472, 76543, 76544, 76552, 76577, 76592, 76652, 76673, 76703, 76714, 76721, 76739, 76745, 76746, 76755, 76772, 76795, 76835, 76837, 76869, 76875, 76905, 76909, 76917, 76919, 76924, 76925, 76926, 76943, 76947, 76970, 76977, 76992, 76995, 76998, 77066, 77067, 77068, 77088, 77106, 77136, 77151, 77158, 77176, 77185, 77191, 77194, 77215, 77223, 77244, 77250, 77257, 77263, 77266, 77277, 77279, 77308, 77326, 77327, 77344, 77346, 77373, 77397, 77398, 77407, 77454, 77485, 77494, 77522, 77523, 77531, 77544, 77589, 77622, 77646, 77684, 77692, 77710, 77721, 77730, 77736, 77746, 77747, 77750, 77786, 77813, 77879, 77929, 77946, 77953, 77958, 77962, 77970, 77999, 78015, 78018, 78021, 78054, 78057, 78086, 78091, 78096, 78106, 78128, 78130, 78139, 78158, 78159, 78162, 78163, 78169, 78170, 78184, 78224, 78247, 78249, 78252, 78262, 78273, 78285, 78298, 78306, 78332, 78334, 78372, 78374, 78379, 78404, 78421, 78441, 78456, 78458, 78473, 78474, 78477, 78505, 78524, 78529, 78571, 78572, 78573, 78574, 78587, 78596, 78601, 78611, 78634, 78636, 78667, 78674, 78689, 78699, 78701, 78719, 78730, 78735, 78746, 78748, 78765, 78768, 78780, 78849, 78869, 78887, 78890, 78892, 78949, 78986, 79032, 79037, 79046, 79047, 79053, 79067, 79109, 79122, 79126, 79135, 79150, 79187, 79194, 79217, 79241, 79261, 79271, 79279, 79294, 79348, 79399, 79401, 79418, 79438, 79445, 79455, 79461, 79484, 79492, 79554, 79590, 79608, 79642, 79646, 79653, 79691, 79693, 79718, 79737, 79752, 79754, 79760, 79772, 79774, 79788, 79789, 79815, 79835, 79841, 79854, 79871, 79877, 79881, 79901, 79910, 79917, 79940, 79948, 79973, 79978, 79984, 79988, 79992, 80008, 80019, 80020, 80048, 80079, 80113, 80115, 80122, 80123, 80138, 80199, 80227, 80232, 80243, 80247, 80277, 80307, 80320, 80331, 80357, 80397, 80398, 80420, 80423, 80430, 80439, 80443, 80448, 80460, 80481, 80496, 80551, 80553, 80573, 80576, 80673, 80690, 80691, 80699, 80719, 80721, 80736, 80752, 80805, 80840, 80842, 80868, 80875, 80894, 80901, 80904, 80906, 80931, 80932, 80953, 80965, 80970, 81086, 81096, 81105, 81111, 81123, 81160, 81196, 81197, 81199, 81211, 81230, 81252, 81264, 81283, 81292, 81308, 81310, 81351, 81377, 81380, 81406, 81410, 81418, 81458, 81466, 81479, 81539, 81544, 81549, 81551, 81565, 81566, 81595, 81656, 81686, 81711, 81724, 81739, 81763, 81769, 81772, 81775, 81787, 81805, 81814, 81828, 81840, 81848, 81882, 81900, 81907, 81953, 81962, 81965, 81978, 81983, 81988, 81992, 82001, 82043, 82091, 82107, 82190, 82197, 82205, 82223, 82265, 82302, 82303, 82315, 82319, 82333, 82367, 82379, 82381, 82382, 82384, 82391, 82396, 82425, 82440, 82445, 82446, 82483, 82488, 82494, 82497, 82509, 82521, 82541, 82577, 82600, 82617, 82640, 82654, 82705, 82722, 82730, 82737, 82766, 82772, 82773, 82802, 82804, 82807, 82813, 82832, 82850, 82882, 82913, 82937, 82960, 82974, 82983, 82991, 82994, 83025, 83028, 83037, 83075, 83079, 83110, 83117, 83122, 83167, 83225, 83232, 83237, 83261, 83280, 83310, 83350, 83358, 83360, 83369, 83379, 83388, 83448, 83463, 83518, 83540, 83548, 83574, 83616, 83631, 83640, 83660, 83661, 83700, 83704, 83715, 83727, 83782, 83794, 83817, 83833, 83834, 83853, 83878, 83904, 83915, 83921, 83927, 83933, 83974, 83975, 83980, 84004, 84041, 84047, 84096, 84106, 84109, 84121, 84157, 84165, 84177, 84213, 84222, 84252, 84264, 84304, 84318, 84325, 84332, 84362, 84382, 84384, 84399, 84400, 84411, 84440, 84452, 84483, 84485, 84506, 84547, 84559, 84579, 84609, 84620, 84624, 84662, 84671, 84672, 84689, 84697, 84699, 84754, 84776, 84777, 84802, 84807, 84814, 84825, 84854, 84892, 84900, 84908, 84937, 84958, 84994, 85012, 85014, 85018, 85053, 85071, 85101, 85111, 85131, 85133, 85151, 85266, 85277, 85281, 85306, 85312, 85313, 85321, 85333, 85348, 85356, 85374, 85376, 85384, 85423, 85458, 85479, 85502, 85510, 85511, 85512, 85513, 85533, 85562, 85594, 85601, 85632, 85667, 85672, 85678, 85680, 85719, 85737, 85742, 85780, 85808, 85814, 85820, 85826, 85833, 85835, 85861, 85867, 85875, 85890, 85911, 85933, 85935, 85961, 85970, 85991, 86032, 86046, 86068, 86105, 86107, 86112, 86119, 86122, 86127, 86170, 86210, 86230, 86254, 86262, 86266, 86289, 86319, 86320, 86327, 86336, 86341, 86391, 86432, 86433, 86435, 86456, 86460, 86464, 86478, 86487, 86498, 86539, 86540, 86545, 86570, 86574, 86583, 86596, 86635, 86640, 86668, 86672, 86692, 86705, 86711, 86732, 86759, 86761, 86787, 86794, 86797, 86808, 86833, 86845, 86862, 86895, 86913, 86944, 86950, 86976, 86979, 86994, 87068, 87154, 87168, 87175, 87210, 87218, 87221, 87226, 87238, 87255, 87272, 87279, 87285, 87292, 87294, 87296, 87311, 87345, 87362, 87371, 87394, 87405, 87406, 87408, 87414, 87441, 87447, 87477, 87491, 87526, 87540, 87551, 87562, 87563, 87569, 87587, 87604, 87605, 87613, 87626, 87653, 87656, 87660, 87662, 87703, 87705, 87725, 87746, 87759, 87761, 87771, 87793, 87810, 87837, 87863, 87870, 87871, 87882, 87891, 87896, 87901, 87903, 87912, 87957, 87971, 87985, 88006, 88014, 88020, 88025, 88026, 88030, 88038, 88100, 88109, 88112, 88116, 88168, 88179, 88184, 88215, 88235, 88283, 88304, 88306, 88309, 88317, 88362, 88366, 88381, 88392, 88399, 88403, 88471, 88498, 88505, 88515, 88522, 88552, 88554, 88560, 88563, 88592, 88627, 88639, 88667, 88670, 88672, 88678, 88699, 88705, 88717, 88724, 88794, 88811, 88832, 88834, 88839, 88849, 88878, 88943, 88952, 88955, 88962, 88971, 88992, 88999, 89008, 89011, 89031, 89055, 89064, 89074, 89092, 89136, 89167, 89173, 89198, 89200, 89217, 89254, 89271, 89282, 89321, 89322, 89323, 89325, 89345, 89375, 89377, 89451, 89453, 89470, 89496, 89500, 89506, 89597, 89601, 89609, 89629, 89688, 89696, 89698, 89720, 89723, 89732, 89736, 89740, 89748, 89758, 89804, 89850, 89856, 89899, 89903, 89910, 89938, 89947, 89977, 89985, 90042, 90048, 90054, 90067, 90071, 90075, 90086, 90112, 90121, 90135, 90139, 90157, 90171, 90173, 90189, 90244, 90301, 90305, 90326, 90328, 90333, 90357, 90384, 90407, 90408, 90460, 90473, 90494, 90495, 90521, 90524, 90596, 90603, 90604, 90605, 90661, 90664, 90676, 90679, 90681, 90685, 90707, 90720, 90722, 90725, 90757, 90777, 90805, 90827, 90837, 90853, 90869, 90876, 90897, 90904, 90923, 90934, 90945, 90946, 90955, 90981, 90983, 91011, 91026, 91032, 91052, 91056, 91062, 91064, 91067, 91079, 91096, 91100, 91106, 91115, 91121, 91137, 91150, 91153, 91155, 91157, 91227, 91241, 91243, 91247, 91249, 91259, 91262, 91283, 91289, 91291, 91343, 91345, 91373, 91410, 91434, 91438, 91482, 91493, 91518, 91531, 91545, 91546, 91601, 91627, 91643, 91649, 91685, 91708, 91726, 91733, 91737, 91740, 91744, 91766, 91780, 91783, 91789, 91833, 91836, 91881, 91892, 91913, 91914, 91940, 92014, 92052, 92130, 92195, 92212, 92213, 92214, 92238, 92259, 92269, 92286, 92301, 92304, 92306, 92314, 92342, 92344, 92350, 92357, 92363, 92369, 92398, 92409, 92435, 92442, 92456, 92460, 92474, 92493, 92500, 92507]\n"
     ]
    }
   ],
   "source": [
    "# Filter the rows where target is 1\n",
    "target_1_rows = val_df[val_df['target'] == 1]\n",
    "\n",
    "# Print the filtered rows and their row indices\n",
    "print(\"Rows with target = 1:\")\n",
    "print(target_1_rows)\n",
    "\n",
    "print(\"\\nRow indices of rows with target = 1:\")\n",
    "print(target_1_rows.index.tolist())"
   ]
  },
  {
   "cell_type": "markdown",
   "id": "e11862af",
   "metadata": {},
   "source": [
    "# Applying LIME"
   ]
  },
  {
   "cell_type": "code",
   "execution_count": 76,
   "id": "9a72d751",
   "metadata": {},
   "outputs": [
    {
     "name": "stdout",
     "output_type": "stream",
     "text": [
      "Why do you think about the people you love?\n",
      "Probability (Insincere) = 0.042911936733562\n",
      "Probability (Sincere) = 0.957088063266438\n",
      "True Class is: sincere\n"
     ]
    }
   ],
   "source": [
    "# Select a specific instance from the validation set for explanation\n",
    "prediction_index = 20\n",
    "idx = int(val_df.index[prediction_index])\n",
    "# print(idx)\n",
    "c = make_pipeline(tfidf_vc, model)\n",
    "class_names = [\"sincere\", \"insincere\"]\n",
    "\n",
    "# Create a LIME text explainer\n",
    "explainer = LimeTextExplainer(class_names = class_names)\n",
    "\n",
    "# Explain the prediction for the selected instance\n",
    "exp = explainer.explain_instance(val_df[\"question_text\"][idx], c.predict_proba, num_features = 10)\n",
    "\n",
    "# Print the selected question text and its prediction probabilities\n",
    "print(val_df[\"question_text\"][idx])\n",
    "print(\"Probability (Insincere) =\", c.predict_proba([val_df[\"question_text\"][idx]])[0, 1])\n",
    "print(\"Probability (Sincere) =\", c.predict_proba([val_df[\"question_text\"][idx]])[0, 0])\n",
    "print(\"True Class is:\", class_names[int(val_df[\"target\"][idx])])"
   ]
  },
  {
   "cell_type": "markdown",
   "id": "4240271b",
   "metadata": {},
   "source": [
    "# Display LIME explanation in a notebook"
   ]
  },
  {
   "cell_type": "code",
   "execution_count": 85,
   "id": "9477dfce",
   "metadata": {},
   "outputs": [
    {
     "name": "stdout",
     "output_type": "stream",
     "text": [
      "Question: Why do you think about the people you love?\n"
     ]
    },
    {
     "ename": "TypeError",
     "evalue": "list indices must be integers or slices, not numpy.float64",
     "output_type": "error",
     "traceback": [
      "\u001b[31m---------------------------------------------------------------------------\u001b[39m",
      "\u001b[31mTypeError\u001b[39m                                 Traceback (most recent call last)",
      "\u001b[36mCell\u001b[39m\u001b[36m \u001b[39m\u001b[32mIn[85]\u001b[39m\u001b[32m, line 8\u001b[39m\n\u001b[32m      6\u001b[39m \u001b[38;5;66;03m# Print basic info\u001b[39;00m\n\u001b[32m      7\u001b[39m \u001b[38;5;28mprint\u001b[39m(\u001b[33m\"\u001b[39m\u001b[33mQuestion:\u001b[39m\u001b[33m\"\u001b[39m, val_df[\u001b[33m\"\u001b[39m\u001b[33mquestion_text\u001b[39m\u001b[33m\"\u001b[39m][idx])\n\u001b[32m----> \u001b[39m\u001b[32m8\u001b[39m \u001b[38;5;28mprint\u001b[39m(\u001b[33mf\u001b[39m\u001b[33m\"\u001b[39m\u001b[33mPredicted: \u001b[39m\u001b[38;5;132;01m{\u001b[39;00m\u001b[43mclass_names\u001b[49m\u001b[43m[\u001b[49m\u001b[43mc\u001b[49m\u001b[43m.\u001b[49m\u001b[43mpredict\u001b[49m\u001b[43m(\u001b[49m\u001b[43m[\u001b[49m\u001b[43mval_df\u001b[49m\u001b[43m[\u001b[49m\u001b[33;43m'\u001b[39;49m\u001b[33;43mquestion_text\u001b[39;49m\u001b[33;43m'\u001b[39;49m\u001b[43m]\u001b[49m\u001b[43m[\u001b[49m\u001b[43midx\u001b[49m\u001b[43m]\u001b[49m\u001b[43m]\u001b[49m\u001b[43m)\u001b[49m\u001b[43m[\u001b[49m\u001b[32;43m0\u001b[39;49m\u001b[43m]\u001b[49m\u001b[43m]\u001b[49m\u001b[38;5;132;01m}\u001b[39;00m\u001b[33m\"\u001b[39m)\n\u001b[32m      9\u001b[39m \u001b[38;5;28mprint\u001b[39m(\u001b[33mf\u001b[39m\u001b[33m\"\u001b[39m\u001b[33mActual: \u001b[39m\u001b[38;5;132;01m{\u001b[39;00mclass_names[\u001b[38;5;28mint\u001b[39m(val_df[\u001b[33m'\u001b[39m\u001b[33mtarget\u001b[39m\u001b[33m'\u001b[39m][idx])]\u001b[38;5;132;01m}\u001b[39;00m\u001b[33m\"\u001b[39m)\n\u001b[32m     10\u001b[39m \u001b[38;5;28mprint\u001b[39m(\u001b[33m\"\u001b[39m\u001b[38;5;130;01m\\n\u001b[39;00m\u001b[33mProbabilities:\u001b[39m\u001b[33m\"\u001b[39m, c.predict_proba([val_df[\u001b[33m\"\u001b[39m\u001b[33mquestion_text\u001b[39m\u001b[33m\"\u001b[39m][idx]])[\u001b[32m0\u001b[39m])\n",
      "\u001b[31mTypeError\u001b[39m: list indices must be integers or slices, not numpy.float64"
     ]
    }
   ],
   "source": [
    "# Explain the prediction\n",
    "exp = explainer.explain_instance(val_df[\"question_text\"][idx], \n",
    "                                c.predict_proba, \n",
    "                                num_features=10)\n",
    "\n",
    "# Print basic info\n",
    "print(\"Question:\", val_df[\"question_text\"][idx])\n",
    "print(f\"Predicted: {class_names[c.predict([val_df['question_text'][idx]])[0]]}\")\n",
    "print(f\"Actual: {class_names[int(val_df['target'][idx])]}\")\n",
    "print(\"\\nProbabilities:\", c.predict_proba([val_df[\"question_text\"][idx]])[0])\n",
    "\n",
    "# Display options\n",
    "print(\"\\n1. Show in notebook (interactive):\")\n",
    "exp.show_in_notebook(text=val_df[\"question_text\"][idx], labels=(1,))\n",
    "\n",
    "print(\"\\n2. Text explanation:\")\n",
    "print(exp.as_list())\n",
    "\n",
    "print(\"\\n3. Matplotlib figure:\")\n",
    "exp.as_pyplot_figure(label=1).show()"
   ]
  },
  {
   "cell_type": "markdown",
   "id": "934d880c",
   "metadata": {},
   "source": [
    "# Extract and plot LIME weights"
   ]
  },
  {
   "cell_type": "code",
   "execution_count": 83,
   "id": "347fa9ef",
   "metadata": {},
   "outputs": [
    {
     "data": {
      "image/png": "[encoded data removed]",
      "text/plain": [
       "<Figure size 640x480 with 1 Axes>"
      ]
     },
     "metadata": {},
     "output_type": "display_data"
    }
   ],
   "source": [
    "weights = OrderedDict(exp.as_list())\n",
    "lime_weights = pd.DataFrame({\"words\": list(weights.keys()), \"weights\": list(weights.values())})\n",
    "sns.barplot(x = \"words\", y = \"weights\", hue='words', data = lime_weights, palette=\"viridis\")\n",
    "plt.xticks(rotation = 45)\n",
    "plt.title(\"Sample {} features weights given by LIME\".format(idx))\n",
    "plt.show()"
   ]
  }
 ],
 "metadata": {
  "kernelspec": {
   "display_name": "Python 3",
   "language": "python",
   "name": "python3"
  },
  "language_info": {
   "codemirror_mode": {
    "name": "ipython",
    "version": 3
   },
   "file_extension": ".py",
   "mimetype": "text/x-python",
   "name": "python",
   "nbconvert_exporter": "python",
   "pygments_lexer": "ipython3",
   "version": "3.12.1"
  }
 },
 "nbformat": 4,
 "nbformat_minor": 5
}
